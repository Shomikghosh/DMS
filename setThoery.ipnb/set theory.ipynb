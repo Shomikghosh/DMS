{
 "cells": [
  {
   "cell_type": "markdown",
   "metadata": {},
   "source": [
    "# SET THOERY USING PYTHON\n",
    "\n",
    "### Table of Contents\n",
    "\n",
    "* [Define a set](#Section1)\n",
    "* [Create an empty set in python](#Section2)\n",
    "* [Add or Remove elements](#Section3)\n",
    "* [Set Size and Membership](#section4)\n",
    "* [Operations on the set](#section5)\n",
    "    \n",
    "\n"
   ]
  },
  {
   "cell_type": "markdown",
   "metadata": {},
   "source": [
    "Sets is defined as in mathematics, a set is a well-defined collection of distinct objects.\n",
    "<ul> \n",
    "    <li>Sets are unordered.</li>\n",
    "    <li>Set elements are unique. Duplicate elements are not allowed.</li>\n",
    "<li>A set itself may be modified, but the elements contained in the set must be of an immutable type.</li>"
   ]
  },
  {
   "cell_type": "code",
   "execution_count": 12,
   "metadata": {},
   "outputs": [
    {
     "data": {
      "text/plain": [
       "set"
      ]
     },
     "execution_count": 12,
     "metadata": {},
     "output_type": "execute_result"
    }
   ],
   "source": [
    "# create an empty set\n",
    "\n",
    "A = set()\n",
    "type(A)"
   ]
  },
  {
   "cell_type": "code",
   "execution_count": 17,
   "metadata": {},
   "outputs": [],
   "source": [
    "# let us init empty set\n",
    "\n",
    "A = set(['a','b','c'])\n",
    "B = set(['a','b','d'])"
   ]
  },
  {
   "cell_type": "code",
   "execution_count": 23,
   "metadata": {},
   "outputs": [
    {
     "name": "stdout",
     "output_type": "stream",
     "text": [
      "{'e', 'b', 'c', 'a'}\n"
     ]
    }
   ],
   "source": [
    "# let us add a new element to set A\n",
    "\n",
    "A = {'a','b','c'}\n",
    "\n",
    "A.add('e')\n",
    "print(A)"
   ]
  },
  {
   "cell_type": "code",
   "execution_count": 24,
   "metadata": {},
   "outputs": [
    {
     "name": "stdout",
     "output_type": "stream",
     "text": [
      "{'e', 'b', 'c', 'a'}\n",
      "{'b', 'c', 'a'}\n"
     ]
    }
   ],
   "source": [
    "# let us remove a new element to set A\n",
    "\n",
    "print(A)\n",
    "\n",
    "A.remove('e')\n",
    "print(A)"
   ]
  },
  {
   "cell_type": "code",
   "execution_count": 25,
   "metadata": {},
   "outputs": [
    {
     "name": "stdout",
     "output_type": "stream",
     "text": [
      "b\n",
      "c\n",
      "a\n"
     ]
    }
   ],
   "source": [
    "# list all the elements of the set \n",
    "\n",
    "for ele in A:\n",
    "    print(ele)"
   ]
  },
  {
   "cell_type": "code",
   "execution_count": 31,
   "metadata": {},
   "outputs": [
    {
     "name": "stdout",
     "output_type": "stream",
     "text": [
      "The union of A and B is:  {'b', 'c', 'd', 'a'}\n",
      "The Intersection of A and B is:  {'b', 'a'}\n",
      "The set difference of A and B is:  {'c'}\n",
      "The symmetric difference of A and B is:  {'d', 'c'}\n"
     ]
    }
   ],
   "source": [
    "# let us perform set operations \n",
    "\n",
    "A = set(['a','b','c'])\n",
    "B = set(['a','b','d'])\n",
    "\n",
    "print('The union of A and B is: ', A | B)\n",
    "print('The Intersection of A and B is: ', A & B)\n",
    "print('The set difference of A and B is: ', A - B)\n",
    "print('The symmetric difference of A and B is: ', A ^ B)"
   ]
  },
  {
   "cell_type": "code",
   "execution_count": 32,
   "metadata": {},
   "outputs": [
    {
     "name": "stdout",
     "output_type": "stream",
     "text": [
      "\n",
      "a\n",
      "b\n",
      "ab\n",
      "c\n",
      "ac\n",
      "bc\n",
      "abc\n"
     ]
    }
   ],
   "source": [
    "# power set\n",
    "\n",
    "import math; \n",
    "  \n",
    "def printPowerSet(set,set_size): \n",
    "      \n",
    "    # set_size of power set of a set \n",
    "    # with set_size n is (2**n -1) \n",
    "    pow_set_size = (int) (math.pow(2, set_size)); \n",
    "    counter = 0; \n",
    "    j = 0; \n",
    "      \n",
    "    # Run from counter 000..0 to 111..1 \n",
    "    for counter in range(0, pow_set_size): \n",
    "        for j in range(0, set_size): \n",
    "              \n",
    "            # Check if jth bit in the  \n",
    "            # counter is set If set then  \n",
    "            # print jth element from set  \n",
    "            if((counter & (1 << j)) > 0): \n",
    "                print(set[j], end = \"\"); \n",
    "        print(\"\"); \n",
    "  \n",
    "# Driver program to test printPowerSet \n",
    "set = ['a', 'b', 'c']; \n",
    "printPowerSet(set, 3); \n",
    "\n"
   ]
  },
  {
   "cell_type": "code",
   "execution_count": 35,
   "metadata": {},
   "outputs": [
    {
     "data": {
      "text/plain": [
       "<matplotlib_venn._common.VennDiagram at 0x1ee5b9e1100>"
      ]
     },
     "execution_count": 35,
     "metadata": {},
     "output_type": "execute_result"
    },
    {
     "data": {
      "image/png": "[encoded data removed]",
      "text/plain": [
       "<Figure size 432x288 with 1 Axes>"
      ]
     },
     "metadata": {},
     "output_type": "display_data"
    }
   ],
   "source": [
    "# let us perform some visualization using venn-diagrams\n",
    "\n",
    "from matplotlib_venn import venn2\n",
    "venn2(subsets = (3, 2, 1))"
   ]
  },
  {
   "cell_type": "code",
   "execution_count": 47,
   "metadata": {},
   "outputs": [
    {
     "data": {
      "text/plain": [
       "<matplotlib_venn._common.VennDiagram at 0x1ee5bd058b0>"
      ]
     },
     "execution_count": 47,
     "metadata": {},
     "output_type": "execute_result"
    },
    {
     "data": {
      "image/png": "[encoded data removed]",
      "text/plain": [
       "<Figure size 432x288 with 1 Axes>"
      ]
     },
     "metadata": {},
     "output_type": "display_data"
    }
   ],
   "source": [
    "from matplotlib_venn import venn3\n",
    "venn3(subsets = (17, 12, 7, 15, 4, 5, 3), set_labels = ('Dosa', 'Upma', 'Coffee'))"
   ]
  }
 ],
 "metadata": {
  "kernelspec": {
   "display_name": "Python 3",
   "language": "python",
   "name": "python3"
  },
  "language_info": {
   "codemirror_mode": {
    "name": "ipython",
    "version": 3
   },
   "file_extension": ".py",
   "mimetype": "text/x-python",
   "name": "python",
   "nbconvert_exporter": "python",
   "pygments_lexer": "ipython3",
   "version": "3.8.3"
  }
 },
 "nbformat": 4,
 "nbformat_minor": 4
}
